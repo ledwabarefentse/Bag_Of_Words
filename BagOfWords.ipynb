{
  "nbformat": 4,
  "nbformat_minor": 0,
  "metadata": {
    "colab": {
      "provenance": [],
      "authorship_tag": "ABX9TyPKSmrXq20nw1BTE1Zp9Aft",
      "include_colab_link": true
    },
    "kernelspec": {
      "name": "python3",
      "display_name": "Python 3"
    },
    "language_info": {
      "name": "python"
    }
  },
  "cells": [
    {
      "cell_type": "markdown",
      "metadata": {
        "id": "view-in-github",
        "colab_type": "text"
      },
      "source": [
        "<a href=\"https://colab.research.google.com/github/ledwabarefentse/Bag_Of_Words/blob/main/BagOfWords.ipynb\" target=\"_parent\"><img src=\"https://colab.research.google.com/assets/colab-badge.svg\" alt=\"Open In Colab\"/></a>"
      ]
    },
    {
      "cell_type": "markdown",
      "source": [
        "\n",
        "\n",
        "> Part 1 Declaring all documents and assigning to a document\n",
        "\n",
        "\n",
        "\n",
        "\n",
        "\n",
        "\n"
      ],
      "metadata": {
        "id": "92lxZAO5gStJ"
      }
    },
    {
      "cell_type": "code",
      "execution_count": 5,
      "metadata": {
        "id": "7UtNP_E77SuQ"
      },
      "outputs": [],
      "source": [
        "document1 = \"Lesiba Ledwaba is awesome\"\n",
        "document2 = \"I once worked with lesiba and I enjoyed it\"\n",
        "document3 = \"I will explain it to you with him\""
      ]
    },
    {
      "cell_type": "markdown",
      "source": [
        "Par 2 Importing libraries and initializing CountVectorizer\n"
      ],
      "metadata": {
        "id": "D61Z4_RRgltR"
      }
    },
    {
      "cell_type": "code",
      "source": [
        "from sklearn.feature_extraction.text import CountVectorizer\n",
        "\n",
        "#Making a list or Document from all documents\n",
        "Doc=[document1,document2,document3]\n",
        "\n",
        "#Initializing CountVectorizer from sklearn\n",
        "vectorizer = CountVectorizer(stop_words='english')"
      ],
      "metadata": {
        "id": "LfNwrlsx830u"
      },
      "execution_count": 6,
      "outputs": []
    },
    {
      "cell_type": "markdown",
      "source": [
        "Part 3 Getting feature names of final words that we will use to tag this document"
      ],
      "metadata": {
        "id": "UyHceyfFg2pR"
      }
    },
    {
      "cell_type": "code",
      "source": [
        "X = vectorizer.fit_transform(Doc)\n",
        "analyze = vectorizer.build_analyzer()\n",
        "analyze(document1)\n",
        "analyze(document2)\n",
        "analyze(document3)\n",
        "vectorizer.transform([document1]).toarray()\n",
        "vectorizer.transform([document2]).toarray()\n",
        "vectorizer.transform([document3]).toarray()\n",
        "print(vectorizer.get_feature_names_out())"
      ],
      "metadata": {
        "colab": {
          "base_uri": "https://localhost:8080/"
        },
        "id": "cZMixMJsg1BS",
        "outputId": "6f302eb9-4f9d-4436-8037-83a36bb08451"
      },
      "execution_count": 7,
      "outputs": [
        {
          "output_type": "stream",
          "name": "stdout",
          "text": [
            "['awesome' 'enjoyed' 'explain' 'ledwaba' 'lesiba' 'worked']\n"
          ]
        }
      ]
    },
    {
      "cell_type": "markdown",
      "source": [
        "Part 4 Vectorizer or creating a matrix of all three documents"
      ],
      "metadata": {
        "id": "Xy6xEp7Lh0ko"
      }
    },
    {
      "cell_type": "code",
      "source": [
        "print(X.toarray())"
      ],
      "metadata": {
        "colab": {
          "base_uri": "https://localhost:8080/"
        },
        "id": "vn2jDdLHiiAF",
        "outputId": "26098713-e452-47f5-ab83-bacfcbb4c022"
      },
      "execution_count": 8,
      "outputs": [
        {
          "output_type": "stream",
          "name": "stdout",
          "text": [
            "[[1 0 0 1 1 0]\n",
            " [0 1 0 0 1 1]\n",
            " [0 0 1 0 0 0]]\n"
          ]
        }
      ]
    }
  ]
}